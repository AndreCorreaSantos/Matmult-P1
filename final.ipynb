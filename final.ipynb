{
 "cells": [
  {
   "cell_type": "markdown",
   "metadata": {},
   "source": [
    "Importando bibliotecas utilizadas no projeto"
   ]
  },
  {
   "cell_type": "code",
   "execution_count": 6,
   "metadata": {},
   "outputs": [],
   "source": [
    "import numpy as np\n",
    "from math import *"
   ]
  },
  {
   "cell_type": "markdown",
   "metadata": {},
   "source": [
    "Pontos em que a reta tangente é vertical e pontos em que a reta tangente é horizontal"
   ]
  },
  {
   "cell_type": "code",
   "execution_count": 7,
   "metadata": {},
   "outputs": [
    {
     "name": "stdout",
     "output_type": "stream",
     "text": [
      "Pontos em que a tangente é horizontal\n",
      "[0.3539, 1.7298, 3.1977, 3.9571, 5.1916, 6.7067000000000005, 7.5978, 8.6601, 10.1891, 11.2512, 12.1425, 13.6576, 14.891900000000001, 15.6514, 17.119500000000002, 18.4951]\n",
      " \n",
      "Pontos em que a tangente é vertical\n",
      "[0.00030000000000000003, 0.9741000000000001, 2.4998, 3.6500000000000004, 4.4678, 5.964300000000001, 7.2748, 7.996300000000001, 9.4246, 10.8528, 11.574200000000001, 12.885, 14.381300000000001, 15.199, 16.3494, 17.8751, 18.8493]\n"
     ]
    }
   ],
   "source": [
    "\n",
    "\n",
    "def processa(lista):\n",
    "    lista2 = []\n",
    "\n",
    "    for i in lista:\n",
    "        dif = True\n",
    "        for u in lista2:\n",
    "            if abs(i-u)/(i) < 0.01:\n",
    "                dif = False\n",
    "                break\n",
    "        if dif:\n",
    "            lista2.append(i)\n",
    "    return lista2\n",
    "\n",
    "\n",
    "range_t = np.arange(0,pi*6,0.0001)\n",
    "\n",
    "def derivada_x(t):\n",
    "    return -5*sin(t)+8*sin(8*t/3)\n",
    "\n",
    "def derivada_y(t):\n",
    "    return  5*cos(t)-8*cos(8*t/3)\n",
    "\n",
    "tangente_vertical = []\n",
    "tangente_horizontal = []\n",
    "\n",
    "for t in range_t:\n",
    "    dx = derivada_x(t)\n",
    "    dy = derivada_y(t)\n",
    "    if round(dx,2) == 0.000:\n",
    "        tangente_vertical.append(t)\n",
    "    if round(dy,2) == 0.000:\n",
    "        tangente_horizontal.append(t)\n",
    "\n",
    "\n",
    "\n",
    "tan_v = processa(tangente_vertical)\n",
    "tan_h = processa(tangente_horizontal)\n",
    "\n",
    "tan_v = tan_v[3:]\n",
    "\n",
    "print(\"Pontos em que a tangente é horizontal\")\n",
    "print(tan_h)\n",
    "print(\" \")\n",
    "print(\"Pontos em que a tangente é vertical\")\n",
    "print(tan_v)\n"
   ]
  },
  {
   "cell_type": "markdown",
   "metadata": {},
   "source": [
    "2.4 Comprimento\n",
    "aproximação pela poligonal"
   ]
  },
  {
   "cell_type": "code",
   "execution_count": 8,
   "metadata": {},
   "outputs": [
    {
     "name": "stdout",
     "output_type": "stream",
     "text": [
      "Comprimento de curva aproximado pela poligonal:\n",
      "165.9239636314014\n"
     ]
    }
   ],
   "source": [
    "\n",
    "\n",
    "def calcula_dist(p1,p2):\n",
    "    return sqrt(((p1[0]-p2[0])**2)+((p1[1]-p2[1])**2))\n",
    "\n",
    "def funcao(t):\n",
    "    return (5*cos(t)-3*cos(8*t/3),5*sin(t)-3*sin(8*t/3))\n",
    "\n",
    "\n",
    "range_t = np.arange(0,pi*6,0.00005)\n",
    "\n",
    "lista_pontos = []\n",
    "for i in range_t:\n",
    "    lista_pontos.append(funcao(i))\n",
    "\n",
    "dist = 0\n",
    "for i in range(0,len(lista_pontos)):\n",
    "    if i != 0:\n",
    "        dist += calcula_dist(lista_pontos[i],lista_pontos[i-1])\n",
    "\n",
    "print(\"Comprimento de curva aproximado pela poligonal:\")\n",
    "print(dist) "
   ]
  },
  {
   "cell_type": "markdown",
   "metadata": {},
   "source": [
    "2.4.2 Distancia aproximada pela integral"
   ]
  },
  {
   "cell_type": "code",
   "execution_count": 9,
   "metadata": {},
   "outputs": [
    {
     "name": "stdout",
     "output_type": "stream",
     "text": [
      "Comprimento de curva aproximado pela integral:\n",
      "165.9238137344715\n"
     ]
    }
   ],
   "source": [
    "step = 0.0001\n",
    "\n",
    "range_t = np.arange(0,pi*6,step)\n",
    "\n",
    "def funcao_para_integrar(t):\n",
    "    return sqrt(89-(80*((sin(t)*sin(8*t/3))+(cos(t)*cos(8*t/3)))))\n",
    "\n",
    "lista_pontos = []\n",
    "for i in range_t:\n",
    "    lista_pontos.append(funcao_para_integrar(i))\n",
    "\n",
    "\n",
    "def integra(lista,step):\n",
    "    area = 0\n",
    "    for i in range(0,len(lista)):\n",
    "        if i != 0:\n",
    "            area+= (lista[i-1] + lista[i])*step/2\n",
    "    return area\n",
    "\n",
    "integral = integra(lista_pontos,step)\n",
    "\n",
    "print(\"Comprimento de curva aproximado pela integral:\")\n",
    "print(integral)"
   ]
  },
  {
   "cell_type": "markdown",
   "metadata": {},
   "source": [
    "2.5.1 Aproximação por figuras mais simples.\n",
    "figura mais simples escolhida - triângulos."
   ]
  },
  {
   "cell_type": "code",
   "execution_count": 10,
   "metadata": {},
   "outputs": [
    {
     "name": "stdout",
     "output_type": "stream",
     "text": [
      "Área interna obtida por aproximação com triângulos\n",
      "195.43824419331222\n"
     ]
    }
   ],
   "source": [
    "def calcula_dist_centro(p1):\n",
    "    return sqrt((p1[0]**2)+(p1[1]**2))\n",
    "\n",
    "\n",
    "def calcula_h(p1,p2):\n",
    "    ponto_medio_segmento_p1p2 = (((p1[0]+p2[0])/2),((p1[1]+p2[1])/2))\n",
    "    return calcula_dist_centro(ponto_medio_segmento_p1p2)\n",
    "\n",
    "\n",
    "\n",
    "range_t = np.arange(0,pi*6,0.00005)\n",
    "\n",
    "lista_pontos = []\n",
    "min_dist = 7.6113\n",
    "for i in range_t:\n",
    "    lista_pontos.append(funcao(i))\n",
    "\n",
    "app = False\n",
    "dic_pontos_externos = {1:[],2:[],3:[],4:[],5:[],}\n",
    "\n",
    "contador = 0\n",
    "for i in range(0,len(lista_pontos)):\n",
    "    if calcula_dist_centro(lista_pontos[i]) >= min_dist:\n",
    "        if app == False:\n",
    "            contador+=1\n",
    "        app = True\n",
    "        dic_pontos_externos[contador].append(lista_pontos[i])\n",
    "    else:\n",
    "        app = False\n",
    "\n",
    "\n",
    "lista_pontos_ordenados = dic_pontos_externos[4] + dic_pontos_externos[1] + dic_pontos_externos[3] + dic_pontos_externos[5] + dic_pontos_externos[2]\n",
    "\n",
    "area_interna = 0\n",
    "\n",
    "for i in range(0,len(lista_pontos_ordenados)):\n",
    "    if i != 0:\n",
    "        base = calcula_dist(lista_pontos_ordenados[i],lista_pontos_ordenados[i-1])\n",
    "        altura = calcula_h(lista_pontos_ordenados[i],lista_pontos_ordenados[i-1])\n",
    "        area_interna += (base*altura)/2\n",
    "\n",
    "print(\"Área interna obtida por aproximação com triângulos\")\n",
    "print(area_interna)"
   ]
  }
 ],
 "metadata": {
  "interpreter": {
   "hash": "758144652f02702e132193def3e43e4e5577c8c930edf4124e6012965d27d0ae"
  },
  "kernelspec": {
   "display_name": "Python 3.9.5 64-bit",
   "language": "python",
   "name": "python3"
  },
  "language_info": {
   "codemirror_mode": {
    "name": "ipython",
    "version": 3
   },
   "file_extension": ".py",
   "mimetype": "text/x-python",
   "name": "python",
   "nbconvert_exporter": "python",
   "pygments_lexer": "ipython3",
   "version": "3.9.5"
  },
  "orig_nbformat": 4
 },
 "nbformat": 4,
 "nbformat_minor": 2
}
